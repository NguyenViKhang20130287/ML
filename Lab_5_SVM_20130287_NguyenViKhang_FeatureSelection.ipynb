{
  "nbformat": 4,
  "nbformat_minor": 0,
  "metadata": {
    "colab": {
      "provenance": []
    },
    "kernelspec": {
      "name": "python3",
      "display_name": "Python 3"
    },
    "language_info": {
      "name": "python"
    }
  },
  "cells": [
    {
      "cell_type": "markdown",
      "source": [
        "#Import libraries"
      ],
      "metadata": {
        "id": "kTNUl5BUkq71"
      }
    },
    {
      "cell_type": "code",
      "source": [
        "from sklearn import datasets\n",
        "from sklearn import svm\n",
        "from sklearn.linear_model import LogisticRegression\n",
        "from sklearn import metrics as m\n",
        "from sklearn import tree\n",
        "from sklearn.neighbors import KNeighborsClassifier\n",
        "from sklearn.preprocessing import StandardScaler, OneHotEncoder, OrdinalEncoder\n",
        "from sklearn.feature_selection import SelectFromModel, SelectKBest, f_classif\n",
        "from sklearn.ensemble import RandomForestClassifier\n",
        "from sklearn.model_selection import train_test_split\n",
        "from prettytable import PrettyTable\n",
        "import pandas as pd\n",
        "import matplotlib.pyplot as plt\n",
        "import numpy as np\n",
        "import pickle\n",
        "import joblib\n",
        "from sklearn.pipeline import Pipeline\n",
        "from sklearn.compose import ColumnTransformer"
      ],
      "metadata": {
        "id": "JNOeNQFWktr7"
      },
      "execution_count": 53,
      "outputs": []
    },
    {
      "cell_type": "code",
      "source": [
        "from google.colab import drive\n",
        "drive.mount('/content/drive')"
      ],
      "metadata": {
        "colab": {
          "base_uri": "https://localhost:8080/",
          "height": 0
        },
        "id": "DWKYKtQ1X3_8",
        "outputId": "3adbfec7-54ea-4a1d-ea2a-611ef92191f0"
      },
      "execution_count": 2,
      "outputs": [
        {
          "output_type": "stream",
          "name": "stdout",
          "text": [
            "Mounted at /content/drive\n"
          ]
        }
      ]
    },
    {
      "cell_type": "markdown",
      "source": [
        "#Mount Drive"
      ],
      "metadata": {
        "id": "DG23AZjim_xf"
      }
    },
    {
      "cell_type": "code",
      "source": [
        "from google.colab import drive\n",
        "drive.mount('/content/gdrive')\n",
        "%cd '/content/gdrive/MyDrive/Colab Notebooks/ML_2425/Lab 5_Classification1'"
      ],
      "metadata": {
        "colab": {
          "base_uri": "https://localhost:8080/",
          "height": 0
        },
        "id": "UmW_I3-knBvI",
        "outputId": "965d3dc2-3d43-4c2c-be08-f1177191195d"
      },
      "execution_count": 3,
      "outputs": [
        {
          "output_type": "stream",
          "name": "stdout",
          "text": [
            "Mounted at /content/gdrive\n",
            "/content/gdrive/MyDrive/Colab Notebooks/ML_2425/Lab 5_Classification1\n"
          ]
        }
      ]
    },
    {
      "cell_type": "markdown",
      "source": [
        "#Dataset mobile (for task #2)"
      ],
      "metadata": {
        "id": "cDfvNHKgZyIC"
      }
    },
    {
      "cell_type": "code",
      "source": [
        "mobile_train = pd.read_csv('mobile_train.csv')\n",
        "mobile_test = pd.read_csv('mobile_test.csv')\n",
        "mobile_test.drop(columns=['id'], inplace=True)\n",
        "\n",
        "mobile_X = mobile_train.drop('price_range', axis=1)\n",
        "mobile_y = mobile_train['price_range']\n",
        "features = mobile_X.columns"
      ],
      "metadata": {
        "id": "BPW_Hi3Yndhr"
      },
      "execution_count": 4,
      "outputs": []
    },
    {
      "cell_type": "markdown",
      "source": [
        "# Áp dụng lựa chọn đặc trưng cho tập mobile_train."
      ],
      "metadata": {
        "id": "eS8KDuG2l6of"
      }
    },
    {
      "cell_type": "code",
      "source": [
        "rf = RandomForestClassifier(n_estimators=100, random_state=42)\n",
        "rf.fit(mobile_X, mobile_y)\n",
        "print('Feature Importance: ', rf.feature_importances_)\n",
        "#các thuộc tính có mức độ quan trọng từ giá trị trung bình của tất cả các mức độ quan trọng của các thuộc tính trở lên sẽ được giữ lại\n",
        "selector = SelectFromModel(rf, threshold=\"mean\", prefit=True)\n",
        "X_new = selector.transform(mobile_X)\n",
        "print('Selected Features: ', features[selector.get_support()])"
      ],
      "metadata": {
        "id": "gbl-N6ZKl83H",
        "colab": {
          "base_uri": "https://localhost:8080/",
          "height": 0
        },
        "outputId": "e5c11aac-d5df-40f9-d243-03df703153d0"
      },
      "execution_count": 5,
      "outputs": [
        {
          "output_type": "stream",
          "name": "stdout",
          "text": [
            "Feature Importance:  [0.07460184 0.0063116  0.02606854 0.00644839 0.02427436 0.00623685\n",
            " 0.03469866 0.02329284 0.03895964 0.02203571 0.02745886 0.05563956\n",
            " 0.05744761 0.49416339 0.02654661 0.02789211 0.03034681 0.00470159\n",
            " 0.00662019 0.00625484]\n",
            "Selected Features:  Index(['battery_power', 'px_height', 'px_width', 'ram'], dtype='object')\n"
          ]
        },
        {
          "output_type": "stream",
          "name": "stderr",
          "text": [
            "/usr/local/lib/python3.11/dist-packages/sklearn/utils/validation.py:2732: UserWarning: X has feature names, but SelectFromModel was fitted without feature names\n",
            "  warnings.warn(\n"
          ]
        }
      ]
    },
    {
      "cell_type": "markdown",
      "source": [
        "# Sử dụng lại selector đã thực hiện với tập mobile_train để lấy các đặc trưng tương ứng cho tập mobile_test"
      ],
      "metadata": {
        "id": "zHO1BEb1aRw1"
      }
    },
    {
      "cell_type": "code",
      "source": [
        "#code\n",
        "mobile_test_new = selector.transform(mobile_test.values)#chỉ lấy values, không lấy tên features"
      ],
      "metadata": {
        "id": "pZ5jpfpYMV0-"
      },
      "execution_count": null,
      "outputs": []
    },
    {
      "cell_type": "code",
      "source": [
        "mobile_test_new.shape\n",
        "#lấy đúng số lượng features đã được giữ lại ở tập mobile_train. Vì nếu không lấy đúng số features này thì mô hình đã train với\n",
        "#các mẫu dữ liệu ở tập mobile_train sẽ không dự đoán y (output) cho các mẫu dữ liệu trong tập test"
      ],
      "metadata": {
        "colab": {
          "base_uri": "https://localhost:8080/"
        },
        "id": "2LY8bqQUabi1",
        "outputId": "fa02a31e-6025-410c-c3ba-df3e59a543e4"
      },
      "execution_count": null,
      "outputs": [
        {
          "output_type": "execute_result",
          "data": {
            "text/plain": [
              "(1000, 4)"
            ]
          },
          "metadata": {},
          "execution_count": 18
        }
      ]
    },
    {
      "cell_type": "markdown",
      "source": [
        "# TASK 1"
      ],
      "metadata": {
        "id": "jZtoGAUfoxt2"
      }
    },
    {
      "cell_type": "markdown",
      "source": [
        "***1.1. Train an SVM model to the above dataset using the linear kernel (70% for the training set and 30% for the test set).***"
      ],
      "metadata": {
        "id": "BjzwyTvMrb88"
      }
    },
    {
      "cell_type": "code",
      "source": [
        "cancer = datasets.load_breast_cancer()\n",
        "x, y = cancer.data, cancer.target\n",
        "x_train, x_test, y_train, y_test = train_test_split(x, y, test_size=0.3, random_state=42)"
      ],
      "metadata": {
        "id": "37AKWqrDpXFq"
      },
      "execution_count": 38,
      "outputs": []
    },
    {
      "cell_type": "code",
      "source": [
        "svm_model_cancer = svm.SVC(kernel='linear', C=1, random_state=42)\n",
        "svm_model_cancer.fit(x_train, y_train)\n",
        "y_pred = svm_model_cancer.predict(x_test)\n",
        "print('Accuracy: ', m.accuracy_score(y_test, y_pred))\n",
        "print('Classsification Report: \\n', m.classification_report(y_test, y_pred))"
      ],
      "metadata": {
        "colab": {
          "base_uri": "https://localhost:8080/",
          "height": 0
        },
        "id": "nmlAhChsqKn3",
        "outputId": "5e9d9fbb-ada8-45a5-d0cd-15503bb23b3a"
      },
      "execution_count": 39,
      "outputs": [
        {
          "output_type": "stream",
          "name": "stdout",
          "text": [
            "Accuracy:  0.9649122807017544\n",
            "Classsification Report: \n",
            "               precision    recall  f1-score   support\n",
            "\n",
            "           0       0.97      0.94      0.95        63\n",
            "           1       0.96      0.98      0.97       108\n",
            "\n",
            "    accuracy                           0.96       171\n",
            "   macro avg       0.97      0.96      0.96       171\n",
            "weighted avg       0.96      0.96      0.96       171\n",
            "\n"
          ]
        }
      ]
    },
    {
      "cell_type": "markdown",
      "source": [
        "***1.2. Compare the performance of the SVM model with those of models trained by Logistic Regression, Decision Tree, and kNN algorithms based on metrics: accuracy, precision, recall, and f1 score.***"
      ],
      "metadata": {
        "id": "D3Udzn9wsFGz"
      }
    },
    {
      "cell_type": "code",
      "source": [
        "models = {\n",
        "    'SVM': svm_model_cancer,\n",
        "    'Logistic Regression': LogisticRegression(max_iter=10000, random_state=42),\n",
        "    'Decision Tree': tree.DecisionTreeClassifier(random_state=42),\n",
        "    'kNN': KNeighborsClassifier()\n",
        "}\n",
        "\n",
        "results = {}\n",
        "\n",
        "for name, model in models.items():\n",
        "    model.fit(x_train, y_train)\n",
        "    y_pred = model.predict(x_test)\n",
        "    results[name] = {\n",
        "        'Accuracy': m.accuracy_score(y_test, y_pred),\n",
        "        'Precision': m.precision_score(y_test, y_pred),\n",
        "        'Recall': m.recall_score(y_test, y_pred),\n",
        "        'F1 Score': m.f1_score(y_test, y_pred)\n",
        "    }\n",
        "results_dt = pd.DataFrame(results)\n",
        "print(results_dt)"
      ],
      "metadata": {
        "colab": {
          "base_uri": "https://localhost:8080/",
          "height": 0
        },
        "id": "k-nkeNaVsJw_",
        "outputId": "9c5fdbb5-d073-4e28-9d8b-d52e968b210c"
      },
      "execution_count": 20,
      "outputs": [
        {
          "output_type": "stream",
          "name": "stdout",
          "text": [
            "                SVM  Logistic Regression  Decision Tree       kNN\n",
            "Accuracy   0.964912             0.976608       0.941520  0.959064\n",
            "Precision  0.963636             0.981481       0.971154  0.946903\n",
            "Recall     0.981481             0.981481       0.935185  0.990741\n",
            "F1 Score   0.972477             0.981481       0.952830  0.968326\n"
          ]
        }
      ]
    },
    {
      "cell_type": "markdown",
      "source": [
        "***1.3. Apply feature selection to select the best features for the output. Then, train the models using Logistic Regression, Decision Tree, and kNN algorithms. Compare the performance of these models based on metrics: accuracy, precision, recall, and f1 score.***"
      ],
      "metadata": {
        "id": "IdYx5T0s5YU_"
      }
    },
    {
      "cell_type": "code",
      "source": [
        "selctor_cancer = SelectKBest(score_func=f_classif, k=10)\n",
        "x_new = selctor_cancer.fit_transform(x, y)\n",
        "\n",
        "x_train_fs, x_test_fs, y_train_fs, y_test_fs = train_test_split(x_new, y, test_size=0.3, random_state=42)\n",
        "\n",
        "scaler_fs = StandardScaler()\n",
        "x_train_fs_scaled = scaler_fs.fit_transform(x_train_fs)\n",
        "x_test_fs_scaled = scaler_fs.transform(x_test_fs)\n",
        "\n",
        "models_fs = {\n",
        "    'Logistic Regression (FS)': LogisticRegression(max_iter=10000, random_state=42),\n",
        "    'Decision Tree (FS)': tree.DecisionTreeClassifier(random_state=42),\n",
        "    'kNN (FS)': KNeighborsClassifier()\n",
        "}\n",
        "\n",
        "results_fs = {}\n",
        "\n",
        "for name, model in models_fs.items():\n",
        "  if 'Logistic' in name or 'kNN' in name:\n",
        "    model.fit(x_train_fs_scaled, y_train_fs)\n",
        "    y_pred = model.predict(x_test_fs_scaled)\n",
        "  else:\n",
        "    model.fit(x_train_fs, y_train_fs)\n",
        "    y_pred = model.predict(x_test_fs)\n",
        "  results_fs[name] = {\n",
        "      'Accuracy': m.accuracy_score(y_test_fs, y_pred),\n",
        "      'Precision': m.precision_score(y_test_fs, y_pred),\n",
        "      'Recall': m.recall_score(y_test_fs, y_pred),\n",
        "      'F1 Score': m.f1_score(y_test_fs, y_pred)\n",
        "    }\n",
        "\n",
        "results_fs_dt = pd.DataFrame(results_fs)\n",
        "print(results_fs_dt)"
      ],
      "metadata": {
        "colab": {
          "base_uri": "https://localhost:8080/",
          "height": 0
        },
        "id": "tiui0yhd5cI1",
        "outputId": "23d721a7-f967-4f20-e248-ad0acbe0f1aa"
      },
      "execution_count": 36,
      "outputs": [
        {
          "output_type": "stream",
          "name": "stdout",
          "text": [
            "           Logistic Regression (FS)  Decision Tree (FS)  kNN (FS)\n",
            "Accuracy                   0.964912            0.941520  0.947368\n",
            "Precision                  0.981132            0.953704  0.962617\n",
            "Recall                     0.962963            0.953704  0.953704\n",
            "F1 Score                   0.971963            0.953704  0.958140\n"
          ]
        }
      ]
    },
    {
      "cell_type": "markdown",
      "source": [
        "# TASK 2"
      ],
      "metadata": {
        "id": "xoygUqM8aMe_"
      }
    },
    {
      "cell_type": "markdown",
      "source": [
        "***2.1. Evaluate the performance of SVM (using different kernels, including Linear Kernel,Polynomial Kernel, Sigmoid Kernel, and Radial Basis Function Kernel) with mobile price classification based on accuracy, precision, recall, and f1 score.***"
      ],
      "metadata": {
        "id": "g_d9E9YFaOrb"
      }
    },
    {
      "cell_type": "code",
      "source": [
        "x_train_mobile, x_test_mobile, y_train_mobile, y_test_mobile = train_test_split(mobile_X, mobile_y, test_size=0.3, random_state=42)\n",
        "\n",
        "scaler_mobile = StandardScaler()\n",
        "x_train_mobile_scaled = scaler_mobile.fit_transform(x_train_mobile)\n",
        "x_test_mobile_scaled = scaler_mobile.transform(x_test_mobile)\n",
        "\n",
        "kenerls = ['linear', 'poly', 'sigmoid', 'rbf']\n",
        "for kernel in kenerls:\n",
        "  print(f\"\\nĐánh giá SVM với kernel: {kernel.upper()}\")\n",
        "  model_mobile = svm.SVC(kernel=kernel, C=1, random_state=42)\n",
        "  model_mobile.fit(x_train_mobile_scaled, y_train_mobile)\n",
        "  y_pred_mobile = model_mobile.predict(x_test_mobile_scaled)\n",
        "\n",
        "  accuracy = m.accuracy_score(y_test_mobile, y_pred_mobile)\n",
        "  precision = m.precision_score(y_test_mobile, y_pred_mobile, average='weighted')\n",
        "  recall = m.recall_score(y_test_mobile, y_pred_mobile, average='weighted')\n",
        "  f1 = m.f1_score(y_test_mobile, y_pred_mobile, average='weighted')\n",
        "\n",
        "  print('Accuracy: ', accuracy)\n",
        "  print('Precision: ', precision)\n",
        "  print('Recall: ', recall)\n",
        "  print('F1 Score: ', f1)"
      ],
      "metadata": {
        "colab": {
          "base_uri": "https://localhost:8080/",
          "height": 0
        },
        "id": "xMlXgj6baljA",
        "outputId": "bb781dbc-aabf-43e5-afd0-33783afceba0"
      },
      "execution_count": 46,
      "outputs": [
        {
          "output_type": "stream",
          "name": "stdout",
          "text": [
            "\n",
            "Đánh giá SVM với kernel: LINEAR\n",
            "Accuracy:  0.9533333333333334\n",
            "Precision:  0.955198925268421\n",
            "Recall:  0.9533333333333334\n",
            "F1 Score:  0.9534558763219786\n",
            "\n",
            "Đánh giá SVM với kernel: POLY\n",
            "Accuracy:  0.7833333333333333\n",
            "Precision:  0.7969143041935092\n",
            "Recall:  0.7833333333333333\n",
            "F1 Score:  0.7875706979000574\n",
            "\n",
            "Đánh giá SVM với kernel: SIGMOID\n",
            "Accuracy:  0.9116666666666666\n",
            "Precision:  0.9132463699119626\n",
            "Recall:  0.9116666666666666\n",
            "F1 Score:  0.9120165515686817\n",
            "\n",
            "Đánh giá SVM với kernel: RBF\n",
            "Accuracy:  0.87\n",
            "Precision:  0.8726288634654535\n",
            "Recall:  0.87\n",
            "F1 Score:  0.8708643354962748\n"
          ]
        }
      ]
    },
    {
      "cell_type": "markdown",
      "source": [
        "***2.2. Apply feature selection to select the best features for the output. Then, train the models using Logistic Regression, Decision Tree, and kNN algorithms. Compare the performance of these models based on metrics: accuracy, precision, recall, and f1 score.***"
      ],
      "metadata": {
        "id": "pZkCa-WhoawU"
      }
    },
    {
      "cell_type": "code",
      "source": [
        "selector_mobile = SelectKBest(score_func=f_classif, k=10)\n",
        "selector_mobile.fit(mobile_X, mobile_y)\n",
        "\n",
        "scaler_fs_mobile = StandardScaler()\n",
        "x_train_fs_mobile_scaled = scaler_fs_mobile.fit_transform(x_train_mobile)\n",
        "x_test_fs_mobile_scaled = scaler_fs_mobile.transform(x_test_mobile)\n",
        "\n",
        "results_fs_mobile = {}\n",
        "\n",
        "for name, model in models_fs.items():\n",
        "  model.fit(x_train_fs_mobile_scaled, y_train_mobile)\n",
        "  y_pred = model.predict(x_test_fs_mobile_scaled)\n",
        "\n",
        "  accuracy = m.accuracy_score(y_test_mobile, y_pred)\n",
        "  precision, recall, f1, _ = m.precision_recall_fscore_support(y_test_mobile, y_pred, average='weighted')\n",
        "  results_fs_mobile[name] = {\n",
        "      'Accuracy': accuracy,\n",
        "      'Precision': precision,\n",
        "      'Recall': recall,\n",
        "      'F1 Score': f1\n",
        "    }\n",
        "\n",
        "results_fs_df_mobile = pd.DataFrame(results_fs_mobile)\n",
        "print(results_fs_df_mobile)"
      ],
      "metadata": {
        "colab": {
          "base_uri": "https://localhost:8080/",
          "height": 0
        },
        "id": "Fpn0F7pyofKp",
        "outputId": "39d3d3f5-ceec-45bd-c85e-a7c52d5ab98e"
      },
      "execution_count": 47,
      "outputs": [
        {
          "output_type": "stream",
          "name": "stdout",
          "text": [
            "           Logistic Regression (FS)  Decision Tree (FS)  kNN (FS)\n",
            "Accuracy                   0.958333            0.820000  0.513333\n",
            "Precision                  0.959738            0.822563  0.539994\n",
            "Recall                     0.958333            0.820000  0.513333\n",
            "F1 Score                   0.958328            0.820831  0.516935\n"
          ]
        }
      ]
    },
    {
      "cell_type": "markdown",
      "source": [
        "# TASK 3"
      ],
      "metadata": {
        "id": "t6Ra-9wpzx1z"
      }
    },
    {
      "cell_type": "markdown",
      "source": [
        "3.1. Apply the following preprocessing techniques to features:\n",
        "− Rescale numerical features ('duration', 'credit_amount', 'installment_commitment',\n",
        "'residence_since', 'age', 'existing_credits', 'num_dependents') using StandardScaler\n",
        "− Encode all categorical features ('credit_history', 'purpose', 'personal_status',\n",
        "'other_parties', 'property_magnitude', 'other_payment_plans', 'housing', 'job',\n",
        "'own_telephone', 'foreign_worker') using OneHotEncoder\n",
        "− Encode all ordinal features ('checking_status', 'savings_status', 'employment') using\n",
        "OrdinalEncoder"
      ],
      "metadata": {
        "id": "HBl4jz0_z0oJ"
      }
    },
    {
      "cell_type": "code",
      "source": [
        "df_credit = pd.read_csv('credit.csv')\n",
        "df_credit.head()"
      ],
      "metadata": {
        "colab": {
          "base_uri": "https://localhost:8080/",
          "height": 342
        },
        "id": "Zz5igfxC1-XM",
        "outputId": "783ca774-e975-4fb6-a93f-b3bd49c788d7"
      },
      "execution_count": 48,
      "outputs": [
        {
          "output_type": "execute_result",
          "data": {
            "text/plain": [
              "   Unnamed: 0 checking_status  duration                  credit_history  \\\n",
              "0           0              <0       6.0  critical/other existing credit   \n",
              "1           1        0<=X<200      48.0                   existing paid   \n",
              "2           2     no checking      12.0  critical/other existing credit   \n",
              "3           3              <0      42.0                   existing paid   \n",
              "4           4              <0      24.0              delayed previously   \n",
              "\n",
              "               purpose  credit_amount    savings_status employment  \\\n",
              "0             radio/tv         1169.0  no known savings        >=7   \n",
              "1             radio/tv         5951.0              <100     1<=X<4   \n",
              "2            education         2096.0              <100     4<=X<7   \n",
              "3  furniture/equipment         7882.0              <100     4<=X<7   \n",
              "4              new car         4870.0              <100     1<=X<4   \n",
              "\n",
              "   installment_commitment     personal_status  ... property_magnitude   age  \\\n",
              "0                     4.0         male single  ...        real estate  67.0   \n",
              "1                     2.0  female div/dep/mar  ...        real estate  22.0   \n",
              "2                     2.0         male single  ...        real estate  49.0   \n",
              "3                     2.0         male single  ...     life insurance  45.0   \n",
              "4                     3.0         male single  ...  no known property  53.0   \n",
              "\n",
              "  other_payment_plans   housing existing_credits                 job  \\\n",
              "0                none       own              2.0             skilled   \n",
              "1                none       own              1.0             skilled   \n",
              "2                none       own              1.0  unskilled resident   \n",
              "3                none  for free              1.0             skilled   \n",
              "4                none  for free              2.0             skilled   \n",
              "\n",
              "   num_dependents own_telephone  foreign_worker class  \n",
              "0             1.0           yes             yes  good  \n",
              "1             1.0          none             yes   bad  \n",
              "2             2.0          none             yes  good  \n",
              "3             2.0          none             yes  good  \n",
              "4             2.0          none             yes   bad  \n",
              "\n",
              "[5 rows x 22 columns]"
            ],
            "text/html": [
              "\n",
              "  <div id=\"df-87c10528-b2fc-4f43-b0a9-88a6dc39c0ac\" class=\"colab-df-container\">\n",
              "    <div>\n",
              "<style scoped>\n",
              "    .dataframe tbody tr th:only-of-type {\n",
              "        vertical-align: middle;\n",
              "    }\n",
              "\n",
              "    .dataframe tbody tr th {\n",
              "        vertical-align: top;\n",
              "    }\n",
              "\n",
              "    .dataframe thead th {\n",
              "        text-align: right;\n",
              "    }\n",
              "</style>\n",
              "<table border=\"1\" class=\"dataframe\">\n",
              "  <thead>\n",
              "    <tr style=\"text-align: right;\">\n",
              "      <th></th>\n",
              "      <th>Unnamed: 0</th>\n",
              "      <th>checking_status</th>\n",
              "      <th>duration</th>\n",
              "      <th>credit_history</th>\n",
              "      <th>purpose</th>\n",
              "      <th>credit_amount</th>\n",
              "      <th>savings_status</th>\n",
              "      <th>employment</th>\n",
              "      <th>installment_commitment</th>\n",
              "      <th>personal_status</th>\n",
              "      <th>...</th>\n",
              "      <th>property_magnitude</th>\n",
              "      <th>age</th>\n",
              "      <th>other_payment_plans</th>\n",
              "      <th>housing</th>\n",
              "      <th>existing_credits</th>\n",
              "      <th>job</th>\n",
              "      <th>num_dependents</th>\n",
              "      <th>own_telephone</th>\n",
              "      <th>foreign_worker</th>\n",
              "      <th>class</th>\n",
              "    </tr>\n",
              "  </thead>\n",
              "  <tbody>\n",
              "    <tr>\n",
              "      <th>0</th>\n",
              "      <td>0</td>\n",
              "      <td>&lt;0</td>\n",
              "      <td>6.0</td>\n",
              "      <td>critical/other existing credit</td>\n",
              "      <td>radio/tv</td>\n",
              "      <td>1169.0</td>\n",
              "      <td>no known savings</td>\n",
              "      <td>&gt;=7</td>\n",
              "      <td>4.0</td>\n",
              "      <td>male single</td>\n",
              "      <td>...</td>\n",
              "      <td>real estate</td>\n",
              "      <td>67.0</td>\n",
              "      <td>none</td>\n",
              "      <td>own</td>\n",
              "      <td>2.0</td>\n",
              "      <td>skilled</td>\n",
              "      <td>1.0</td>\n",
              "      <td>yes</td>\n",
              "      <td>yes</td>\n",
              "      <td>good</td>\n",
              "    </tr>\n",
              "    <tr>\n",
              "      <th>1</th>\n",
              "      <td>1</td>\n",
              "      <td>0&lt;=X&lt;200</td>\n",
              "      <td>48.0</td>\n",
              "      <td>existing paid</td>\n",
              "      <td>radio/tv</td>\n",
              "      <td>5951.0</td>\n",
              "      <td>&lt;100</td>\n",
              "      <td>1&lt;=X&lt;4</td>\n",
              "      <td>2.0</td>\n",
              "      <td>female div/dep/mar</td>\n",
              "      <td>...</td>\n",
              "      <td>real estate</td>\n",
              "      <td>22.0</td>\n",
              "      <td>none</td>\n",
              "      <td>own</td>\n",
              "      <td>1.0</td>\n",
              "      <td>skilled</td>\n",
              "      <td>1.0</td>\n",
              "      <td>none</td>\n",
              "      <td>yes</td>\n",
              "      <td>bad</td>\n",
              "    </tr>\n",
              "    <tr>\n",
              "      <th>2</th>\n",
              "      <td>2</td>\n",
              "      <td>no checking</td>\n",
              "      <td>12.0</td>\n",
              "      <td>critical/other existing credit</td>\n",
              "      <td>education</td>\n",
              "      <td>2096.0</td>\n",
              "      <td>&lt;100</td>\n",
              "      <td>4&lt;=X&lt;7</td>\n",
              "      <td>2.0</td>\n",
              "      <td>male single</td>\n",
              "      <td>...</td>\n",
              "      <td>real estate</td>\n",
              "      <td>49.0</td>\n",
              "      <td>none</td>\n",
              "      <td>own</td>\n",
              "      <td>1.0</td>\n",
              "      <td>unskilled resident</td>\n",
              "      <td>2.0</td>\n",
              "      <td>none</td>\n",
              "      <td>yes</td>\n",
              "      <td>good</td>\n",
              "    </tr>\n",
              "    <tr>\n",
              "      <th>3</th>\n",
              "      <td>3</td>\n",
              "      <td>&lt;0</td>\n",
              "      <td>42.0</td>\n",
              "      <td>existing paid</td>\n",
              "      <td>furniture/equipment</td>\n",
              "      <td>7882.0</td>\n",
              "      <td>&lt;100</td>\n",
              "      <td>4&lt;=X&lt;7</td>\n",
              "      <td>2.0</td>\n",
              "      <td>male single</td>\n",
              "      <td>...</td>\n",
              "      <td>life insurance</td>\n",
              "      <td>45.0</td>\n",
              "      <td>none</td>\n",
              "      <td>for free</td>\n",
              "      <td>1.0</td>\n",
              "      <td>skilled</td>\n",
              "      <td>2.0</td>\n",
              "      <td>none</td>\n",
              "      <td>yes</td>\n",
              "      <td>good</td>\n",
              "    </tr>\n",
              "    <tr>\n",
              "      <th>4</th>\n",
              "      <td>4</td>\n",
              "      <td>&lt;0</td>\n",
              "      <td>24.0</td>\n",
              "      <td>delayed previously</td>\n",
              "      <td>new car</td>\n",
              "      <td>4870.0</td>\n",
              "      <td>&lt;100</td>\n",
              "      <td>1&lt;=X&lt;4</td>\n",
              "      <td>3.0</td>\n",
              "      <td>male single</td>\n",
              "      <td>...</td>\n",
              "      <td>no known property</td>\n",
              "      <td>53.0</td>\n",
              "      <td>none</td>\n",
              "      <td>for free</td>\n",
              "      <td>2.0</td>\n",
              "      <td>skilled</td>\n",
              "      <td>2.0</td>\n",
              "      <td>none</td>\n",
              "      <td>yes</td>\n",
              "      <td>bad</td>\n",
              "    </tr>\n",
              "  </tbody>\n",
              "</table>\n",
              "<p>5 rows × 22 columns</p>\n",
              "</div>\n",
              "    <div class=\"colab-df-buttons\">\n",
              "\n",
              "  <div class=\"colab-df-container\">\n",
              "    <button class=\"colab-df-convert\" onclick=\"convertToInteractive('df-87c10528-b2fc-4f43-b0a9-88a6dc39c0ac')\"\n",
              "            title=\"Convert this dataframe to an interactive table.\"\n",
              "            style=\"display:none;\">\n",
              "\n",
              "  <svg xmlns=\"http://www.w3.org/2000/svg\" height=\"24px\" viewBox=\"0 -960 960 960\">\n",
              "    <path d=\"M120-120v-720h720v720H120Zm60-500h600v-160H180v160Zm220 220h160v-160H400v160Zm0 220h160v-160H400v160ZM180-400h160v-160H180v160Zm440 0h160v-160H620v160ZM180-180h160v-160H180v160Zm440 0h160v-160H620v160Z\"/>\n",
              "  </svg>\n",
              "    </button>\n",
              "\n",
              "  <style>\n",
              "    .colab-df-container {\n",
              "      display:flex;\n",
              "      gap: 12px;\n",
              "    }\n",
              "\n",
              "    .colab-df-convert {\n",
              "      background-color: #E8F0FE;\n",
              "      border: none;\n",
              "      border-radius: 50%;\n",
              "      cursor: pointer;\n",
              "      display: none;\n",
              "      fill: #1967D2;\n",
              "      height: 32px;\n",
              "      padding: 0 0 0 0;\n",
              "      width: 32px;\n",
              "    }\n",
              "\n",
              "    .colab-df-convert:hover {\n",
              "      background-color: #E2EBFA;\n",
              "      box-shadow: 0px 1px 2px rgba(60, 64, 67, 0.3), 0px 1px 3px 1px rgba(60, 64, 67, 0.15);\n",
              "      fill: #174EA6;\n",
              "    }\n",
              "\n",
              "    .colab-df-buttons div {\n",
              "      margin-bottom: 4px;\n",
              "    }\n",
              "\n",
              "    [theme=dark] .colab-df-convert {\n",
              "      background-color: #3B4455;\n",
              "      fill: #D2E3FC;\n",
              "    }\n",
              "\n",
              "    [theme=dark] .colab-df-convert:hover {\n",
              "      background-color: #434B5C;\n",
              "      box-shadow: 0px 1px 3px 1px rgba(0, 0, 0, 0.15);\n",
              "      filter: drop-shadow(0px 1px 2px rgba(0, 0, 0, 0.3));\n",
              "      fill: #FFFFFF;\n",
              "    }\n",
              "  </style>\n",
              "\n",
              "    <script>\n",
              "      const buttonEl =\n",
              "        document.querySelector('#df-87c10528-b2fc-4f43-b0a9-88a6dc39c0ac button.colab-df-convert');\n",
              "      buttonEl.style.display =\n",
              "        google.colab.kernel.accessAllowed ? 'block' : 'none';\n",
              "\n",
              "      async function convertToInteractive(key) {\n",
              "        const element = document.querySelector('#df-87c10528-b2fc-4f43-b0a9-88a6dc39c0ac');\n",
              "        const dataTable =\n",
              "          await google.colab.kernel.invokeFunction('convertToInteractive',\n",
              "                                                    [key], {});\n",
              "        if (!dataTable) return;\n",
              "\n",
              "        const docLinkHtml = 'Like what you see? Visit the ' +\n",
              "          '<a target=\"_blank\" href=https://colab.research.google.com/notebooks/data_table.ipynb>data table notebook</a>'\n",
              "          + ' to learn more about interactive tables.';\n",
              "        element.innerHTML = '';\n",
              "        dataTable['output_type'] = 'display_data';\n",
              "        await google.colab.output.renderOutput(dataTable, element);\n",
              "        const docLink = document.createElement('div');\n",
              "        docLink.innerHTML = docLinkHtml;\n",
              "        element.appendChild(docLink);\n",
              "      }\n",
              "    </script>\n",
              "  </div>\n",
              "\n",
              "\n",
              "<div id=\"df-10f3e2b3-8d55-440c-9d5c-10f7680ff082\">\n",
              "  <button class=\"colab-df-quickchart\" onclick=\"quickchart('df-10f3e2b3-8d55-440c-9d5c-10f7680ff082')\"\n",
              "            title=\"Suggest charts\"\n",
              "            style=\"display:none;\">\n",
              "\n",
              "<svg xmlns=\"http://www.w3.org/2000/svg\" height=\"24px\"viewBox=\"0 0 24 24\"\n",
              "     width=\"24px\">\n",
              "    <g>\n",
              "        <path d=\"M19 3H5c-1.1 0-2 .9-2 2v14c0 1.1.9 2 2 2h14c1.1 0 2-.9 2-2V5c0-1.1-.9-2-2-2zM9 17H7v-7h2v7zm4 0h-2V7h2v10zm4 0h-2v-4h2v4z\"/>\n",
              "    </g>\n",
              "</svg>\n",
              "  </button>\n",
              "\n",
              "<style>\n",
              "  .colab-df-quickchart {\n",
              "      --bg-color: #E8F0FE;\n",
              "      --fill-color: #1967D2;\n",
              "      --hover-bg-color: #E2EBFA;\n",
              "      --hover-fill-color: #174EA6;\n",
              "      --disabled-fill-color: #AAA;\n",
              "      --disabled-bg-color: #DDD;\n",
              "  }\n",
              "\n",
              "  [theme=dark] .colab-df-quickchart {\n",
              "      --bg-color: #3B4455;\n",
              "      --fill-color: #D2E3FC;\n",
              "      --hover-bg-color: #434B5C;\n",
              "      --hover-fill-color: #FFFFFF;\n",
              "      --disabled-bg-color: #3B4455;\n",
              "      --disabled-fill-color: #666;\n",
              "  }\n",
              "\n",
              "  .colab-df-quickchart {\n",
              "    background-color: var(--bg-color);\n",
              "    border: none;\n",
              "    border-radius: 50%;\n",
              "    cursor: pointer;\n",
              "    display: none;\n",
              "    fill: var(--fill-color);\n",
              "    height: 32px;\n",
              "    padding: 0;\n",
              "    width: 32px;\n",
              "  }\n",
              "\n",
              "  .colab-df-quickchart:hover {\n",
              "    background-color: var(--hover-bg-color);\n",
              "    box-shadow: 0 1px 2px rgba(60, 64, 67, 0.3), 0 1px 3px 1px rgba(60, 64, 67, 0.15);\n",
              "    fill: var(--button-hover-fill-color);\n",
              "  }\n",
              "\n",
              "  .colab-df-quickchart-complete:disabled,\n",
              "  .colab-df-quickchart-complete:disabled:hover {\n",
              "    background-color: var(--disabled-bg-color);\n",
              "    fill: var(--disabled-fill-color);\n",
              "    box-shadow: none;\n",
              "  }\n",
              "\n",
              "  .colab-df-spinner {\n",
              "    border: 2px solid var(--fill-color);\n",
              "    border-color: transparent;\n",
              "    border-bottom-color: var(--fill-color);\n",
              "    animation:\n",
              "      spin 1s steps(1) infinite;\n",
              "  }\n",
              "\n",
              "  @keyframes spin {\n",
              "    0% {\n",
              "      border-color: transparent;\n",
              "      border-bottom-color: var(--fill-color);\n",
              "      border-left-color: var(--fill-color);\n",
              "    }\n",
              "    20% {\n",
              "      border-color: transparent;\n",
              "      border-left-color: var(--fill-color);\n",
              "      border-top-color: var(--fill-color);\n",
              "    }\n",
              "    30% {\n",
              "      border-color: transparent;\n",
              "      border-left-color: var(--fill-color);\n",
              "      border-top-color: var(--fill-color);\n",
              "      border-right-color: var(--fill-color);\n",
              "    }\n",
              "    40% {\n",
              "      border-color: transparent;\n",
              "      border-right-color: var(--fill-color);\n",
              "      border-top-color: var(--fill-color);\n",
              "    }\n",
              "    60% {\n",
              "      border-color: transparent;\n",
              "      border-right-color: var(--fill-color);\n",
              "    }\n",
              "    80% {\n",
              "      border-color: transparent;\n",
              "      border-right-color: var(--fill-color);\n",
              "      border-bottom-color: var(--fill-color);\n",
              "    }\n",
              "    90% {\n",
              "      border-color: transparent;\n",
              "      border-bottom-color: var(--fill-color);\n",
              "    }\n",
              "  }\n",
              "</style>\n",
              "\n",
              "  <script>\n",
              "    async function quickchart(key) {\n",
              "      const quickchartButtonEl =\n",
              "        document.querySelector('#' + key + ' button');\n",
              "      quickchartButtonEl.disabled = true;  // To prevent multiple clicks.\n",
              "      quickchartButtonEl.classList.add('colab-df-spinner');\n",
              "      try {\n",
              "        const charts = await google.colab.kernel.invokeFunction(\n",
              "            'suggestCharts', [key], {});\n",
              "      } catch (error) {\n",
              "        console.error('Error during call to suggestCharts:', error);\n",
              "      }\n",
              "      quickchartButtonEl.classList.remove('colab-df-spinner');\n",
              "      quickchartButtonEl.classList.add('colab-df-quickchart-complete');\n",
              "    }\n",
              "    (() => {\n",
              "      let quickchartButtonEl =\n",
              "        document.querySelector('#df-10f3e2b3-8d55-440c-9d5c-10f7680ff082 button');\n",
              "      quickchartButtonEl.style.display =\n",
              "        google.colab.kernel.accessAllowed ? 'block' : 'none';\n",
              "    })();\n",
              "  </script>\n",
              "</div>\n",
              "\n",
              "    </div>\n",
              "  </div>\n"
            ],
            "application/vnd.google.colaboratory.intrinsic+json": {
              "type": "dataframe",
              "variable_name": "df_credit"
            }
          },
          "metadata": {},
          "execution_count": 48
        }
      ]
    },
    {
      "cell_type": "code",
      "source": [
        "numerical_features = ['duration', 'credit_amount', 'installment_commitment', 'residence_since', 'age', 'existing_credits', 'num_dependents']\n",
        "numeric_transformer = Pipeline(steps=[('scaler', StandardScaler())])\n",
        "\n",
        "categorical_features = ['credit_history', 'purpose', 'personal_status', 'other_parties', 'property_magnitude', 'other_payment_plans', 'housing', 'job', 'own_telephone', 'foreign_worker']\n",
        "categorical_transformer = Pipeline(steps=[('onehot', OneHotEncoder(handle_unknown='ignore'))])\n",
        "\n",
        "ordinal_features = ['checking_status', 'savings_status', 'employment']\n",
        "ordinal_transformer = Pipeline(steps=[('ordinal', OrdinalEncoder())])\n",
        "\n",
        "preprocessor = ColumnTransformer(\n",
        "    transformers=[\n",
        "        ('num', numeric_transformer, numerical_features),\n",
        "        ('cat', categorical_transformer, categorical_features),\n",
        "        ('ord', ordinal_transformer, ordinal_features)\n",
        "    ])\n",
        "\n",
        "x_preprocessed = preprocessor.fit_transform(df_credit)\n",
        "\n",
        "print(x_preprocessed)"
      ],
      "metadata": {
        "colab": {
          "base_uri": "https://localhost:8080/",
          "height": 0
        },
        "id": "cXuoLmL1-Kr4",
        "outputId": "7f227bd1-18fd-41d6-a3e5-1a08e27e79c1"
      },
      "execution_count": 54,
      "outputs": [
        {
          "output_type": "stream",
          "name": "stdout",
          "text": [
            "[[-1.23647786 -0.74513141  0.91847717 ...  1.          4.\n",
            "   3.        ]\n",
            " [ 2.24819436  0.94981679 -0.87018333 ...  0.          2.\n",
            "   0.        ]\n",
            " [-0.73866754 -0.41656241 -0.87018333 ...  3.          2.\n",
            "   1.        ]\n",
            " ...\n",
            " [-0.73866754 -0.87450324  0.91847717 ...  3.          2.\n",
            "   3.        ]\n",
            " [ 1.9992892  -0.50552769  0.91847717 ...  1.          2.\n",
            "   0.        ]\n",
            " [ 1.9992892   0.46245715  0.02414692 ...  0.          0.\n",
            "   4.        ]]\n"
          ]
        }
      ]
    },
    {
      "cell_type": "markdown",
      "source": [
        "***3.2. Compare the performance of the SVM model with those of models trained by Logistic Regression, Decision Tree, and kNN algorithms based on metrics: accuracy, precision, recall, and f1 score.***"
      ],
      "metadata": {
        "id": "V4CNB7aANWsF"
      }
    },
    {
      "cell_type": "code",
      "source": [
        "x = df_credit.drop('class', axis=1)\n",
        "y = df_credit['class']\n",
        "\n",
        "x_train, x_test, y_train, y_test = train_test_split(x, y, test_size=0.3, random_state=42)\n",
        "\n",
        "models = {\n",
        "    'SVM': svm.SVC(),\n",
        "    'Logistic Regression': LogisticRegression(max_iter=10000, random_state=42),\n",
        "    'Decision Tree': tree.DecisionTreeClassifier(random_state=42),\n",
        "    'kNN': KNeighborsClassifier()\n",
        "}\n",
        "\n",
        "results_credit = {}\n",
        "\n",
        "for name, model in models.items():\n",
        "  clf = Pipeline(steps=[('preprocessor', preprocessor), ('classifier', model)])\n",
        "  clf.fit(x_train, y_train)\n",
        "  y_pred = clf.predict(x_test)\n",
        "  results_credit[name] = {\n",
        "      'Accuracy': m.accuracy_score(y_test, y_pred),\n",
        "      'Precision': m.precision_score(y_test, y_pred, average='weighted'),\n",
        "      'Recall': m.recall_score(y_test, y_pred, average='weighted'),\n",
        "      'F1 Score': m.f1_score(y_test, y_pred, average='weighted')\n",
        "  }\n",
        "\n",
        "results_credit_df = pd.DataFrame(results_credit)\n",
        "print(results_credit_df)"
      ],
      "metadata": {
        "colab": {
          "base_uri": "https://localhost:8080/",
          "height": 0
        },
        "id": "T-3j5-fxNZ6q",
        "outputId": "d52e9c02-169a-49ff-8720-fe4e56bca52f"
      },
      "execution_count": 58,
      "outputs": [
        {
          "output_type": "stream",
          "name": "stdout",
          "text": [
            "                SVM  Logistic Regression  Decision Tree       kNN\n",
            "Accuracy   0.753333             0.736667       0.683333  0.726667\n",
            "Precision  0.746284             0.718087       0.678506  0.712406\n",
            "Recall     0.753333             0.736667       0.683333  0.726667\n",
            "F1 Score   0.717645             0.715490       0.680732  0.716035\n"
          ]
        }
      ]
    },
    {
      "cell_type": "markdown",
      "source": [
        "***3.3. Apply feature selection to select the best features for the output. Then, train the models using Logistic Regression, Decision Tree, and kNN algorithms. Compare the performance of these models based on metrics: accuracy, precision, recall, and f1 score.***"
      ],
      "metadata": {
        "id": "DGL0tNt1SBOu"
      }
    },
    {
      "cell_type": "code",
      "source": [
        "for name, model in models.items():\n",
        "  clf = Pipeline(steps=[('preprocessor', preprocessor), ('feature_selection', SelectKBest(score_func=f_classif, k=10)), ('classifier', model)])\n",
        "  clf.fit(x_train, y_train)\n",
        "  y_pred = clf.predict(x_test)\n",
        "  accuracy = m.accuracy_score(y_test, y_pred)\n",
        "  precision, recall, f1, _ = m.precision_recall_fscore_support(y_test, y_pred, average='weighted')\n",
        "\n",
        "  print(f\"\\nKết quả mô hình (với Feature Selection): {name}\")\n",
        "  print('Accuracy: ', accuracy)\n",
        "  print('Precision: ', precision)\n",
        "  print('Recall: ', recall)\n",
        "  print('F1 Score: ', f1)"
      ],
      "metadata": {
        "colab": {
          "base_uri": "https://localhost:8080/",
          "height": 0
        },
        "id": "YR4EhAswSGGG",
        "outputId": "5c5a1fd2-1ef3-4005-d216-e7a0d765711f"
      },
      "execution_count": 60,
      "outputs": [
        {
          "output_type": "stream",
          "name": "stdout",
          "text": [
            "\n",
            "Kết quả mô hình (với Feature Selection): SVM\n",
            "Accuracy:  0.7233333333333334\n",
            "Precision:  0.6990051679586563\n",
            "Recall:  0.7233333333333334\n",
            "F1 Score:  0.6868830534580562\n",
            "\n",
            "Kết quả mô hình (với Feature Selection): Logistic Regression\n",
            "Accuracy:  0.7133333333333334\n",
            "Precision:  0.68392064538406\n",
            "Recall:  0.7133333333333334\n",
            "F1 Score:  0.6743537943537944\n",
            "\n",
            "Kết quả mô hình (với Feature Selection): Decision Tree\n",
            "Accuracy:  0.68\n",
            "Precision:  0.6666612311455361\n",
            "Recall:  0.68\n",
            "F1 Score:  0.6718518518518519\n",
            "\n",
            "Kết quả mô hình (với Feature Selection): kNN\n",
            "Accuracy:  0.7066666666666667\n",
            "Precision:  0.6814323875532453\n",
            "Recall:  0.7066666666666667\n",
            "F1 Score:  0.6840054213505542\n"
          ]
        }
      ]
    }
  ]
}