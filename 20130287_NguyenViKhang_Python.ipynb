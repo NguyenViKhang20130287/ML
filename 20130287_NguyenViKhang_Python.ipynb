{
  "nbformat": 4,
  "nbformat_minor": 0,
  "metadata": {
    "colab": {
      "provenance": [],
      "toc_visible": true,
      "mount_file_id": "1PSihioKEkEpLI4eEq2lxWPz6UEFHNUiI",
      "authorship_tag": "ABX9TyMTSFNQ7wOJ0f9+e0KaDp92"
    },
    "kernelspec": {
      "name": "python3",
      "display_name": "Python 3"
    },
    "language_info": {
      "name": "python"
    }
  },
  "cells": [
    {
      "cell_type": "markdown",
      "source": [
        "Task 1.Python Programming"
      ],
      "metadata": {
        "id": "2DlKrWLjruNk"
      }
    },
    {
      "cell_type": "markdown",
      "source": [
        "Task 1.1 Implenment drawPyramit(int n)"
      ],
      "metadata": {
        "id": "mSQiV0qHsAwt"
      }
    },
    {
      "cell_type": "code",
      "execution_count": null,
      "metadata": {
        "id": "FWF8o2berc3a",
        "colab": {
          "base_uri": "https://localhost:8080/"
        },
        "outputId": "8bfd3217-1065-48a9-fdb1-def1529afae6"
      },
      "outputs": [
        {
          "output_type": "stream",
          "name": "stdout",
          "text": [
            "  X\n",
            " XXX\n",
            "XXXXX\n"
          ]
        }
      ],
      "source": [
        "def drawPyramid(n):\n",
        "  for i in range (1, n + 1):\n",
        "    space = ' ' * (n - i)\n",
        "    x = 'X' * (2 * i - 1)\n",
        "    print(space + x)\n",
        "drawPyramid(3)"
      ]
    },
    {
      "cell_type": "markdown",
      "source": [
        "Task 1.2"
      ],
      "metadata": {
        "id": "HOmk14PfHLS6"
      }
    },
    {
      "cell_type": "code",
      "source": [
        "from enum import Enum\n",
        "from datetime import datetime\n",
        "\n",
        "class TransactionType(Enum):\n",
        "  DEPOSIT = 'Deposit'\n",
        "  WITHDRAWAL = 'Withdrawal'\n",
        "  TRANSFER = 'Transfer'\n",
        "\n",
        "class Transaction:\n",
        "  transaction_counter = 1\n",
        "  def __init__(self, trans_type, amount):\n",
        "    self.id = Transaction.transaction_counter\n",
        "    Transaction.transaction_counter =+ 1\n",
        "    self.type = trans_type\n",
        "    self.date = datetime.now()\n",
        "    self.amount = amount\n",
        "  def __repr__(self):\n",
        "    return f'Transaction(ID={self.id}, Type={self.type.value}, Amount={self.amount}, Date={self.date})'\n",
        "\n",
        "class Account:\n",
        "  def __init__(self, account_no, owner, initial_balance):\n",
        "    self.account_no = account_no\n",
        "    self.owner = owner\n",
        "    self.balance = initial_balance\n",
        "    self.transactions = []\n",
        "\n",
        "  def deposit(self, amount):\n",
        "    if amount > 0:\n",
        "      self.balance += amount\n",
        "      self.transactions.append(Transaction(TransactionType.DEPOSIT, amount))\n",
        "\n",
        "  def withdrawal(self, amount):\n",
        "    if amount > 0 and amount <= self.balance:\n",
        "      self.balance -= amount\n",
        "      self.transactions.append(Transaction(TransactionType.WITHDRAWAL, amount))\n",
        "\n",
        "  def transfer(self, to_account, amount):\n",
        "    if amount > 0 and amount <= self.balance:\n",
        "      self.withdrawal(amount)\n",
        "      to_account.deposit(amount)\n",
        "      self.transactions.append(Transaction(TransactionType.TRANSFER, amount))\n",
        "\n",
        "  def __repr__(self):\n",
        "    return f'Account(Account No={self.account_no}, Owner={self.owner}, Balance={self.balance})'\n"
      ],
      "metadata": {
        "id": "6DLBj7SRLbRw"
      },
      "execution_count": null,
      "outputs": []
    },
    {
      "cell_type": "code",
      "source": [
        "# 1.2 a\n",
        "def countDepositTransaction(self):\n",
        "  return sum(1 for t in self.transactions if t.type == TransactionType.DEPOSIT)\n",
        "\n",
        "# 1.2. b\n",
        "def findMaxWithdrawalTransaction(self):\n",
        "  withDrawals = [t for t in self.transactions if t.type == TransactionType.WITHDRAWAL]\n",
        "  return max(withDrawals, key=lambda t: t.amount)\n",
        "\n",
        "# 1.2 c\n",
        "def statByTypes(self):\n",
        "  stats = {t_type : 0 for t_type in TransactionType}\n",
        "  for t in self.transactions:\n",
        "    stats[t.type] += 1\n",
        "  return stats\n",
        "\n",
        "# 1.2 d\n",
        "def filterTransaction(self, threshold):\n",
        "  return sorted(\n",
        "        [t for t in self.transactions if t.type == TransactionType.TRANSFER and t.amount > threshold],\n",
        "        key=lambda t: t.amount\n",
        "      )"
      ],
      "metadata": {
        "id": "WqCPiFq6WGz8"
      },
      "execution_count": null,
      "outputs": []
    },
    {
      "cell_type": "code",
      "source": [
        "# test\n",
        "acc1 = Account('1', 'A', 1000)\n",
        "acc2 = Account('2', 'B', 500)\n",
        "\n",
        "acc1.deposit(200)\n",
        "acc1.deposit(1000)\n",
        "acc1.deposit(100)\n",
        "acc2.deposit(100)\n",
        "acc1.transfer(acc2, 100)\n",
        "acc1.transfer(acc2, 200)\n",
        "acc1.transfer(acc2, 300)\n",
        "\n",
        "acc1.withdrawal(100)\n",
        "acc1.withdrawal(400)\n",
        "acc1.withdrawal(200)\n",
        "\n",
        "print(acc1)\n",
        "print(acc2)\n",
        "\n",
        "print('a: ', countDepositTransaction(acc1))\n",
        "print('b: ', findMaxWithdrawalTransaction(acc1))\n",
        "print('c: ', statByTypes(acc1))\n",
        "print('d: ', filterTransaction(acc1, 100))"
      ],
      "metadata": {
        "colab": {
          "base_uri": "https://localhost:8080/"
        },
        "id": "Hw21irjjcvbT",
        "outputId": "fd036bd5-f47c-4487-c558-f450ca52c696"
      },
      "execution_count": null,
      "outputs": [
        {
          "output_type": "stream",
          "name": "stdout",
          "text": [
            "Account(Account No=1, Owner=A, Balance=1000)\n",
            "Account(Account No=2, Owner=B, Balance=1200)\n",
            "a:  3\n",
            "b:  Transaction(ID=1, Type=Withdrawal, Amount=400, Date=2025-03-10 07:06:38.549207)\n",
            "c:  {<TransactionType.DEPOSIT: 'Deposit'>: 3, <TransactionType.WITHDRAWAL: 'Withdrawal'>: 6, <TransactionType.TRANSFER: 'Transfer'>: 3}\n",
            "d:  [Transaction(ID=1, Type=Transfer, Amount=200, Date=2025-03-10 07:06:38.549132), Transaction(ID=1, Type=Transfer, Amount=300, Date=2025-03-10 07:06:38.549161)]\n"
          ]
        }
      ]
    },
    {
      "cell_type": "markdown",
      "source": [
        "Task 2 Numpy\n",
        "\n"
      ],
      "metadata": {
        "id": "dWeTtlko4060"
      }
    },
    {
      "cell_type": "markdown",
      "source": [
        "Task 2.1"
      ],
      "metadata": {
        "id": "XfWPwWEb6eY-"
      }
    },
    {
      "cell_type": "code",
      "source": [
        "import numpy as np\n",
        "a = np.array([1, 2, 6, 7, 8, 9, 10])\n",
        "b = np.array([1, 8, 9, 10, 3, 4, 5])\n",
        "\n",
        "common_items = np.intersect1d(a, b)\n",
        "print(common_items)"
      ],
      "metadata": {
        "colab": {
          "base_uri": "https://localhost:8080/"
        },
        "id": "pGqVpu_s5Skp",
        "outputId": "8b55ca47-a78f-44c6-8aa1-37086c3175da"
      },
      "execution_count": null,
      "outputs": [
        {
          "output_type": "stream",
          "name": "stdout",
          "text": [
            "[ 1  8  9 10]\n"
          ]
        }
      ]
    },
    {
      "cell_type": "markdown",
      "source": [
        "Task 2.2"
      ],
      "metadata": {
        "id": "qbJJZQIT6gYc"
      }
    },
    {
      "cell_type": "code",
      "source": [
        "def is_prime_number(n):\n",
        "  if n < 2:\n",
        "    return False\n",
        "  for i in range(2, int(np.sqrt(n)) + 1):\n",
        "    if n % i == 0:\n",
        "      return False\n",
        "  return True\n",
        "\n",
        "numbers_generate = np.arange(1, 101)\n",
        "prime_numbers = numbers_generate[np.vectorize(is_prime_number)(numbers_generate)]\n",
        "\n",
        "\n",
        "print(prime_numbers)"
      ],
      "metadata": {
        "colab": {
          "base_uri": "https://localhost:8080/"
        },
        "id": "zbOSt-dY6hhs",
        "outputId": "4dde38f5-68b8-497c-8043-b429e0a781e9"
      },
      "execution_count": null,
      "outputs": [
        {
          "output_type": "stream",
          "name": "stdout",
          "text": [
            "[ 2  3  5  7 11 13 17 19 23 29 31 37 41 43 47 53 59 61 67 71 73 79 83 89\n",
            " 97]\n"
          ]
        }
      ]
    },
    {
      "cell_type": "markdown",
      "source": [
        "Task 3 Pandas"
      ],
      "metadata": {
        "id": "atpWBP7UHKv-"
      }
    },
    {
      "cell_type": "markdown",
      "source": [
        "Task 3.1"
      ],
      "metadata": {
        "id": "bu37XY7hHNIk"
      }
    },
    {
      "cell_type": "code",
      "source": [
        "from os import PRIO_USER\n",
        "import pandas as pd\n",
        "\n",
        "df = pd.read_csv('data/users.csv')\n",
        "\n",
        "# print(df)\n",
        "\n",
        "# a\n",
        "print('\\na:\\n ', df.tail(10))\n",
        "\n",
        "# b\n",
        "print('\\nb:\\n ',df.shape)\n",
        "\n",
        "# c\n",
        "print('\\nc:\\n ', df.columns.to_list())\n",
        "\n",
        "# d\n",
        "print('\\nd:\\n ', df.dtypes)\n",
        "\n",
        "# e\n",
        "print('\\ne:\\n ', df['occupation'].unique())\n",
        "\n",
        "# f\n",
        "print('\\nf:\\n ', df['occupation'].mode()[0])\n",
        "\n"
      ],
      "metadata": {
        "colab": {
          "base_uri": "https://localhost:8080/"
        },
        "id": "kTryDxlYHOtP",
        "outputId": "273b3601-3cda-46b2-b75f-c6309150472f"
      },
      "execution_count": null,
      "outputs": [
        {
          "output_type": "stream",
          "name": "stdout",
          "text": [
            "\n",
            "a:\n",
            "       user_id  age gender     occupation zip_code\n",
            "933      934   61      M       engineer    22902\n",
            "934      935   42      M         doctor    66221\n",
            "935      936   24      M          other    32789\n",
            "936      937   48      M       educator    98072\n",
            "937      938   38      F     technician    55038\n",
            "938      939   26      F        student    33319\n",
            "939      940   32      M  administrator     2215\n",
            "940      941   20      M        student    97229\n",
            "941      942   48      F      librarian    78209\n",
            "942      943   22      M        student    77841\n",
            "\n",
            "b:\n",
            "  (943, 5)\n",
            "\n",
            "c:\n",
            "  ['user_id', 'age', 'gender', 'occupation', 'zip_code']\n",
            "\n",
            "d:\n",
            "  user_id        int64\n",
            "age            int64\n",
            "gender        object\n",
            "occupation    object\n",
            "zip_code      object\n",
            "dtype: object\n",
            "\n",
            "e:\n",
            "  ['technician' 'other' 'writer' 'executive' 'administrator' 'student'\n",
            " 'lawyer' 'educator' 'scientist' 'entertainment' 'programmer' 'librarian'\n",
            " 'homemaker' 'artist' 'engineer' 'marketing' 'none' 'healthcare' 'retired'\n",
            " 'salesman' 'doctor']\n",
            "\n",
            "f:\n",
            "  student\n"
          ]
        }
      ]
    },
    {
      "cell_type": "code",
      "source": [
        "# g\n",
        "print('\\ng:\\n ', df.describe(include='all'))\n",
        "\n",
        "# h\n",
        "print('\\nh:\\n ', df.groupby('occupation')['age'].mean())\n",
        "\n",
        "# i\n",
        "def male_ratio(n):\n",
        "  return (n == 'M').sum() / len(n)\n",
        "male_ratio_occupation = df.groupby('occupation')['gender'].apply(male_ratio)\n",
        "male_ratio_occupation_sorted = male_ratio_occupation.sort_values(ascending=False)\n",
        "print('\\ni:\\n', male_ratio_occupation_sorted)\n",
        "\n",
        "# j\n",
        "print('\\nj:\\n', df.groupby('occupation')['age'].agg(['min', 'max']))\n",
        "\n",
        "# k\n",
        "print('\\nk:\\n', df.groupby(['occupation', 'gender'])['age'].mean())\n",
        "\n",
        "# l\n",
        "gender_count = df.groupby(['occupation', 'gender']).size().unstack()\n",
        "gender_percentage = gender_count.div(gender_count.sum(axis=1), axis=0) * 100\n",
        "print('\\nl:\\n', gender_percentage)"
      ],
      "metadata": {
        "colab": {
          "base_uri": "https://localhost:8080/"
        },
        "id": "Ow8kODzTQ-7w",
        "outputId": "8dc4a18e-47fd-403c-a6c2-ae5d6806c600"
      },
      "execution_count": null,
      "outputs": [
        {
          "output_type": "stream",
          "name": "stdout",
          "text": [
            "\n",
            "g:\n",
            "             user_id         age gender occupation zip_code\n",
            "count   943.000000  943.000000    943        943      943\n",
            "unique         NaN         NaN      2         21      795\n",
            "top            NaN         NaN      M    student    55414\n",
            "freq           NaN         NaN    670        196        9\n",
            "mean    472.000000   34.051962    NaN        NaN      NaN\n",
            "std     272.364951   12.192740    NaN        NaN      NaN\n",
            "min       1.000000    7.000000    NaN        NaN      NaN\n",
            "25%     236.500000   25.000000    NaN        NaN      NaN\n",
            "50%     472.000000   31.000000    NaN        NaN      NaN\n",
            "75%     707.500000   43.000000    NaN        NaN      NaN\n",
            "max     943.000000   73.000000    NaN        NaN      NaN\n",
            "\n",
            "h:\n",
            "  occupation\n",
            "administrator    38.746835\n",
            "artist           31.392857\n",
            "doctor           43.571429\n",
            "educator         42.010526\n",
            "engineer         36.388060\n",
            "entertainment    29.222222\n",
            "executive        38.718750\n",
            "healthcare       41.562500\n",
            "homemaker        32.571429\n",
            "lawyer           36.750000\n",
            "librarian        40.000000\n",
            "marketing        37.615385\n",
            "none             26.555556\n",
            "other            34.523810\n",
            "programmer       33.121212\n",
            "retired          63.071429\n",
            "salesman         35.666667\n",
            "scientist        35.548387\n",
            "student          22.081633\n",
            "technician       33.148148\n",
            "writer           36.311111\n",
            "Name: age, dtype: float64\n",
            "\n",
            "i:\n",
            " occupation\n",
            "doctor           1.000000\n",
            "engineer         0.970149\n",
            "technician       0.962963\n",
            "retired          0.928571\n",
            "programmer       0.909091\n",
            "executive        0.906250\n",
            "scientist        0.903226\n",
            "entertainment    0.888889\n",
            "lawyer           0.833333\n",
            "salesman         0.750000\n",
            "educator         0.726316\n",
            "student          0.693878\n",
            "other            0.657143\n",
            "marketing        0.615385\n",
            "writer           0.577778\n",
            "none             0.555556\n",
            "administrator    0.544304\n",
            "artist           0.535714\n",
            "librarian        0.431373\n",
            "healthcare       0.312500\n",
            "homemaker        0.142857\n",
            "Name: gender, dtype: float64\n",
            "\n",
            "j:\n",
            "                min  max\n",
            "occupation             \n",
            "administrator   21   70\n",
            "artist          19   48\n",
            "doctor          28   64\n",
            "educator        23   63\n",
            "engineer        22   70\n",
            "entertainment   15   50\n",
            "executive       22   69\n",
            "healthcare      22   62\n",
            "homemaker       20   50\n",
            "lawyer          21   53\n",
            "librarian       23   69\n",
            "marketing       24   55\n",
            "none            11   55\n",
            "other           13   64\n",
            "programmer      20   63\n",
            "retired         51   73\n",
            "salesman        18   66\n",
            "scientist       23   55\n",
            "student          7   42\n",
            "technician      21   55\n",
            "writer          18   60\n",
            "\n",
            "k:\n",
            " occupation     gender\n",
            "administrator  F         40.638889\n",
            "               M         37.162791\n",
            "artist         F         30.307692\n",
            "               M         32.333333\n",
            "doctor         M         43.571429\n",
            "educator       F         39.115385\n",
            "               M         43.101449\n",
            "engineer       F         29.500000\n",
            "               M         36.600000\n",
            "entertainment  F         31.000000\n",
            "               M         29.000000\n",
            "executive      F         44.000000\n",
            "               M         38.172414\n",
            "healthcare     F         39.818182\n",
            "               M         45.400000\n",
            "homemaker      F         34.166667\n",
            "               M         23.000000\n",
            "lawyer         F         39.500000\n",
            "               M         36.200000\n",
            "librarian      F         40.000000\n",
            "               M         40.000000\n",
            "marketing      F         37.200000\n",
            "               M         37.875000\n",
            "none           F         36.500000\n",
            "               M         18.600000\n",
            "other          F         35.472222\n",
            "               M         34.028986\n",
            "programmer     F         32.166667\n",
            "               M         33.216667\n",
            "retired        F         70.000000\n",
            "               M         62.538462\n",
            "salesman       F         27.000000\n",
            "               M         38.555556\n",
            "scientist      F         28.333333\n",
            "               M         36.321429\n",
            "student        F         20.750000\n",
            "               M         22.669118\n",
            "technician     F         38.000000\n",
            "               M         32.961538\n",
            "writer         F         37.631579\n",
            "               M         35.346154\n",
            "Name: age, dtype: float64\n",
            "\n",
            "l:\n",
            " gender                 F           M\n",
            "occupation                          \n",
            "administrator  45.569620   54.430380\n",
            "artist         46.428571   53.571429\n",
            "doctor               NaN  100.000000\n",
            "educator       27.368421   72.631579\n",
            "engineer        2.985075   97.014925\n",
            "entertainment  11.111111   88.888889\n",
            "executive       9.375000   90.625000\n",
            "healthcare     68.750000   31.250000\n",
            "homemaker      85.714286   14.285714\n",
            "lawyer         16.666667   83.333333\n",
            "librarian      56.862745   43.137255\n",
            "marketing      38.461538   61.538462\n",
            "none           44.444444   55.555556\n",
            "other          34.285714   65.714286\n",
            "programmer      9.090909   90.909091\n",
            "retired         7.142857   92.857143\n",
            "salesman       25.000000   75.000000\n",
            "scientist       9.677419   90.322581\n",
            "student        30.612245   69.387755\n",
            "technician      3.703704   96.296296\n",
            "writer         42.222222   57.777778\n"
          ]
        }
      ]
    },
    {
      "cell_type": "markdown",
      "source": [
        "Task 3.2"
      ],
      "metadata": {
        "id": "cHH8WPk7VeOC"
      }
    },
    {
      "cell_type": "code",
      "source": [
        "df_cars = pd.read_csv('data/cars.csv')\n",
        "\n",
        "# print(df_cars)\n",
        "\n",
        "# a\n",
        "most_expensive_company = df_cars.loc[df_cars['price'].idxmax(), 'company']\n",
        "print('\\na:\\n ', most_expensive_company)\n",
        "\n",
        "# b\n",
        "print('\\nb:\\n ', df_cars[df_cars['company'] == 'toyota'])\n",
        "\n",
        "# c\n",
        "print('\\nc:\\n ', df_cars['company'].value_counts())\n",
        "\n"
      ],
      "metadata": {
        "colab": {
          "base_uri": "https://localhost:8080/"
        },
        "id": "TNC0T3azV4bE",
        "outputId": "4bed7c09-7bb3-4eb8-fe2a-a5ea4ce603a3"
      },
      "execution_count": null,
      "outputs": [
        {
          "output_type": "stream",
          "name": "stdout",
          "text": [
            "\n",
            "a:\n",
            "  mercedes-benz\n",
            "\n",
            "b:\n",
            "      index company body-style  wheel-base  length engine-type num-of-cylinders  \\\n",
            "48     66  toyota  hatchback        95.7   158.7         ohc             four   \n",
            "49     67  toyota  hatchback        95.7   158.7         ohc             four   \n",
            "50     68  toyota  hatchback        95.7   158.7         ohc             four   \n",
            "51     69  toyota      wagon        95.7   169.7         ohc             four   \n",
            "52     70  toyota      wagon        95.7   169.7         ohc             four   \n",
            "53     71  toyota      wagon        95.7   169.7         ohc             four   \n",
            "54     79  toyota      wagon       104.5   187.8        dohc              six   \n",
            "\n",
            "    horsepower  average-mileage    price  \n",
            "48          62               35   5348.0  \n",
            "49          62               31   6338.0  \n",
            "50          62               31   6488.0  \n",
            "51          62               31   6918.0  \n",
            "52          62               27   7898.0  \n",
            "53          62               27   8778.0  \n",
            "54         156               19  15750.0  \n",
            "\n",
            "c:\n",
            "  company\n",
            "toyota           7\n",
            "bmw              6\n",
            "mazda            5\n",
            "nissan           5\n",
            "audi             4\n",
            "mercedes-benz    4\n",
            "mitsubishi       4\n",
            "volkswagen       4\n",
            "alfa-romero      3\n",
            "chevrolet        3\n",
            "honda            3\n",
            "isuzu            3\n",
            "jaguar           3\n",
            "porsche          3\n",
            "dodge            2\n",
            "volvo            2\n",
            "Name: count, dtype: int64\n"
          ]
        }
      ]
    },
    {
      "cell_type": "code",
      "source": [
        "# d\n",
        "print('\\nd:\\n ', df_cars.groupby('company')['price'].max())\n",
        "\n",
        "# e\n",
        "print('\\ne:\\n ', df_cars.groupby('company')['average-mileage'].mean())\n"
      ],
      "metadata": {
        "colab": {
          "base_uri": "https://localhost:8080/"
        },
        "id": "pTNmf0NRREnT",
        "outputId": "5184a87d-7afc-490c-cb11-649e99d59e90"
      },
      "execution_count": null,
      "outputs": [
        {
          "output_type": "stream",
          "name": "stdout",
          "text": [
            "\n",
            "d:\n",
            "  company\n",
            "alfa-romero      16500.0\n",
            "audi             18920.0\n",
            "bmw              41315.0\n",
            "chevrolet         6575.0\n",
            "dodge             6377.0\n",
            "honda            12945.0\n",
            "isuzu             6785.0\n",
            "jaguar           36000.0\n",
            "mazda            18344.0\n",
            "mercedes-benz    45400.0\n",
            "mitsubishi        8189.0\n",
            "nissan           13499.0\n",
            "porsche          37028.0\n",
            "toyota           15750.0\n",
            "volkswagen        9995.0\n",
            "volvo            13415.0\n",
            "Name: price, dtype: float64\n",
            "\n",
            "e:\n",
            "  company\n",
            "alfa-romero      20.333333\n",
            "audi             20.000000\n",
            "bmw              19.000000\n",
            "chevrolet        41.000000\n",
            "dodge            31.000000\n",
            "honda            26.333333\n",
            "isuzu            33.333333\n",
            "jaguar           14.333333\n",
            "mazda            28.000000\n",
            "mercedes-benz    18.000000\n",
            "mitsubishi       29.500000\n",
            "nissan           31.400000\n",
            "porsche          17.000000\n",
            "toyota           28.714286\n",
            "volkswagen       31.750000\n",
            "volvo            23.000000\n",
            "Name: average-mileage, dtype: float64\n"
          ]
        }
      ]
    },
    {
      "cell_type": "code",
      "source": [
        "\n",
        "# f\n",
        "print('\\nf:\\n ', df_cars.sort_values(by='price', ascending=True))\n"
      ],
      "metadata": {
        "id": "0ZFhZNBzRLYs",
        "outputId": "949fd0f0-3a41-4b0e-85e6-12c9b20e6bc4",
        "colab": {
          "base_uri": "https://localhost:8080/"
        }
      },
      "execution_count": null,
      "outputs": [
        {
          "output_type": "stream",
          "name": "stdout",
          "text": [
            "\n",
            "f:\n",
            "      index        company body-style  wheel-base  length engine-type  \\\n",
            "13     16      chevrolet  hatchback        88.4   141.1           l   \n",
            "27     36          mazda  hatchback        93.1   159.1         ohc   \n",
            "48     66         toyota  hatchback        95.7   158.7         ohc   \n",
            "36     49     mitsubishi  hatchback        93.7   157.3         ohc   \n",
            "28     37          mazda  hatchback        93.1   159.1         ohc   \n",
            "..    ...            ...        ...         ...     ...         ...   \n",
            "11     14            bmw      sedan       103.5   193.8         ohc   \n",
            "35     47  mercedes-benz    hardtop       112.0   199.2        ohcv   \n",
            "22     31          isuzu      sedan        94.5   155.9         ohc   \n",
            "23     32          isuzu      sedan        94.5   155.9         ohc   \n",
            "47     63        porsche  hatchback        98.4   175.7       dohcv   \n",
            "\n",
            "   num-of-cylinders  horsepower  average-mileage    price  \n",
            "13            three          48               47   5151.0  \n",
            "27             four          68               30   5195.0  \n",
            "48             four          62               35   5348.0  \n",
            "36             four          68               37   5389.0  \n",
            "28             four          68               31   6095.0  \n",
            "..              ...         ...              ...      ...  \n",
            "11              six         182               16  41315.0  \n",
            "35            eight         184               14  45400.0  \n",
            "22             four          70               38      NaN  \n",
            "23             four          70               38      NaN  \n",
            "47            eight         288               17      NaN  \n",
            "\n",
            "[61 rows x 10 columns]\n"
          ]
        }
      ]
    }
  ]
}